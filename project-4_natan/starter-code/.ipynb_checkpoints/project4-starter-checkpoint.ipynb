{
 "cells": [
  {
   "cell_type": "markdown",
   "metadata": {},
   "source": [
    "# Project 4\n",
    "\n",
    "In this project, you will summarize and present your analysis from Projects 1-3."
   ]
  },
  {
   "cell_type": "markdown",
   "metadata": {},
   "source": [
    "### Intro: Write a problem Statement/ Specific Aim for this project"
   ]
  },
  {
   "cell_type": "markdown",
   "metadata": {},
   "source": [
    "Answer: Determine whether a student's gpa, gre, or alma mater's presige are related to the likelihood that the student in question will be admitted to graduate school, using cross sectional data collected at graduate school application (gpa, gre, prestige) and student's admission decision (admitted, yes = 1; no = 0) based on UCLA data."
   ]
  },
  {
   "cell_type": "markdown",
   "metadata": {},
   "source": [
    "### Dataset:  Write up a description of your data and any cleaning that was completed"
   ]
  },
  {
   "cell_type": "markdown",
   "metadata": {},
   "source": [
    "Answer: The data is assumed to be randomly picked from a single year's applicant pool. The distribution for students that were admitted vs those that were not admitted is expected to be different, with higher mean gpa and gre schools, and lower prestige ratings, for those students that were accepted to graduate school.\n",
    "\n",
    "Prestige is a categorial variable with values of 1, 2, 3, or 4. \n",
    "GPA is a discrete variable with values of 1, 2, 3, or 4.\n",
    "GRE is a discrete variable with values ranging from 0 to 800"
   ]
  },
  {
   "cell_type": "markdown",
   "metadata": {
    "collapsed": true
   },
   "source": [
    "### Demo: Provide a table that explains the data by admission status"
   ]
  },
  {
   "cell_type": "markdown",
   "metadata": {},
   "source": [
    "Mean (STD) or counts by admission status for each variable \n",
    "\n",
    "| Not Admitted | Admitted\n",
    "---| ---|---\n",
    "GPA | mean(std)  | mean(std)\n",
    "GRE |mean(std) | mean(std)\n",
    "Prestige 1 | frequency (%) | frequency (%)\n",
    "Prestige 2 | frequency (%) | frequency (%)\n",
    "Prestige 3 |frequency (%) | frequency (%)\n",
    "Prestige 4 |frequency (%) | frequency (%)"
   ]
  },
  {
   "cell_type": "code",
   "execution_count": 24,
   "metadata": {},
   "outputs": [],
   "source": [
    "%matplotlib inline\n",
    "import matplotlib.pyplot as plt\n",
    "import pandas as pd\n",
    "import statsmodels.api as sm\n",
    "import pylab as pl\n",
    "import numpy as np\n",
    "\n",
    "df_raw = pd.read_csv(\"../assets/admissions.csv\")\n",
    "df = df_raw.join(pd.get_dummies(df_raw['prestige'], prefix='prestige')).drop('prestige', axis = 1).dropna()"
   ]
  },
  {
   "cell_type": "code",
   "execution_count": 148,
   "metadata": {},
   "outputs": [],
   "source": [
    "prestige_grouped = df_raw.dropna().groupby(['admit', 'prestige']).size()\n",
    "no_admit = prestige_grouped[0]\n",
    "admit_summary = pd.concat([no_admit, prestige_grouped[1]],axis = 1)\n",
    "admit_summary.columns = ['not admitted', 'admitted']"
   ]
  },
  {
   "cell_type": "code",
   "execution_count": 149,
   "metadata": {},
   "outputs": [],
   "source": [
    "admit_summary['pct_na'] = admit_summary['not admitted']/admit_summary['not admitted'].sum()*100\n",
    "admit_summary['na'] = admit_summary['admitted']/admit_summary['admitted'].sum()*100\n",
    "admit_summary.index = ['prestige_1.0', 'prestige_2.0','prestige_3.0', 'prestige_4.0']                      "
   ]
  },
  {
   "cell_type": "code",
   "execution_count": 150,
   "metadata": {},
   "outputs": [],
   "source": [
    "admit_sum = {}\n",
    "for i,n in enumerate(admit_summary.index):\n",
    "    admit_sum[n] = {'not admitted' : (admit_summary.iloc[i,0], admit_summary.iloc[i,2]), 'admitted' : (admit_summary.iloc[i,1], admit_summary.iloc[i,3])}"
   ]
  },
  {
   "cell_type": "code",
   "execution_count": 151,
   "metadata": {},
   "outputs": [],
   "source": [
    "admit_sum_df = pd.DataFrame(admit_sum).T"
   ]
  },
  {
   "cell_type": "code",
   "execution_count": 153,
   "metadata": {},
   "outputs": [],
   "source": [
    "q =df_raw.dropna().drop('prestige', axis =1).groupby('admit').aggregate([np.mean, np.std])#.T\n",
    "df_dict = {}\n",
    "df_dict['gre'] = {'not admitted': q['gre'].iloc[0,:].values, 'admitted': q['gre'].iloc[1,:].values}\n",
    "df_dict['gpa'] = {'not admitted': q['gpa'].iloc[0,:].values, 'admitted': q['gpa'].iloc[1,:].values}\n",
    "q_df = pd.DataFrame(df_dict).T"
   ]
  },
  {
   "cell_type": "code",
   "execution_count": 154,
   "metadata": {},
   "outputs": [
    {
     "data": {
      "text/html": [
       "<div>\n",
       "<style>\n",
       "    .dataframe thead tr:only-child th {\n",
       "        text-align: right;\n",
       "    }\n",
       "\n",
       "    .dataframe thead th {\n",
       "        text-align: left;\n",
       "    }\n",
       "\n",
       "    .dataframe tbody tr th {\n",
       "        vertical-align: top;\n",
       "    }\n",
       "</style>\n",
       "<table border=\"1\" class=\"dataframe\">\n",
       "  <thead>\n",
       "    <tr style=\"text-align: right;\">\n",
       "      <th></th>\n",
       "      <th>admitted</th>\n",
       "      <th>not admitted</th>\n",
       "    </tr>\n",
       "  </thead>\n",
       "  <tbody>\n",
       "    <tr>\n",
       "      <th>gpa</th>\n",
       "      <td>[3.48920634921, 0.371654900518]</td>\n",
       "      <td>[3.34715867159, 0.376355388474]</td>\n",
       "    </tr>\n",
       "    <tr>\n",
       "      <th>gre</th>\n",
       "      <td>[618.571428571, 109.257232516]</td>\n",
       "      <td>[573.579335793, 116.052798397]</td>\n",
       "    </tr>\n",
       "    <tr>\n",
       "      <th>prestige_1.0</th>\n",
       "      <td>(33, 26.1904761905)</td>\n",
       "      <td>(28, 10.332103321)</td>\n",
       "    </tr>\n",
       "    <tr>\n",
       "      <th>prestige_2.0</th>\n",
       "      <td>(53, 42.0634920635)</td>\n",
       "      <td>(95, 35.0553505535)</td>\n",
       "    </tr>\n",
       "    <tr>\n",
       "      <th>prestige_3.0</th>\n",
       "      <td>(28, 22.2222222222)</td>\n",
       "      <td>(93, 34.3173431734)</td>\n",
       "    </tr>\n",
       "    <tr>\n",
       "      <th>prestige_4.0</th>\n",
       "      <td>(12, 9.52380952381)</td>\n",
       "      <td>(55, 20.295202952)</td>\n",
       "    </tr>\n",
       "  </tbody>\n",
       "</table>\n",
       "</div>"
      ],
      "text/plain": [
       "                                     admitted                     not admitted\n",
       "gpa           [3.48920634921, 0.371654900518]  [3.34715867159, 0.376355388474]\n",
       "gre            [618.571428571, 109.257232516]   [573.579335793, 116.052798397]\n",
       "prestige_1.0              (33, 26.1904761905)               (28, 10.332103321)\n",
       "prestige_2.0              (53, 42.0634920635)              (95, 35.0553505535)\n",
       "prestige_3.0              (28, 22.2222222222)              (93, 34.3173431734)\n",
       "prestige_4.0              (12, 9.52380952381)               (55, 20.295202952)"
      ]
     },
     "execution_count": 154,
     "metadata": {},
     "output_type": "execute_result"
    }
   ],
   "source": [
    "pd.concat([q_df, admit_sum_df], axis = 0)"
   ]
  },
  {
   "cell_type": "markdown",
   "metadata": {},
   "source": [
    "### Methods: Write up the methods used in your analysis"
   ]
  },
  {
   "cell_type": "markdown",
   "metadata": {},
   "source": [
    "Answer: I completed a logistic regression using Statsmodels logit function and calculated the probability that a given candidate would be admitted the the graduate school based on the three input variables of GPA, GRE, and prestige of undergraduate alma mater."
   ]
  },
  {
   "cell_type": "markdown",
   "metadata": {},
   "source": [
    "### Results: Write up your results"
   ]
  },
  {
   "cell_type": "markdown",
   "metadata": {},
   "source": [
    "Answer:\tHigher GPAs had the greatest impact on the probability of a student being admitted to graduate school, with GRE scores the second most important factor. The coefficient for GPA was 2.18 in exponential terms, meaning that the probability f being admitted increased 2.18 for every unit increase in GPA score."
   ]
  },
  {
   "cell_type": "markdown",
   "metadata": {},
   "source": [
    "### Visuals: Provide a table or visualization of these results"
   ]
  },
  {
   "cell_type": "markdown",
   "metadata": {},
   "source": [
    "<img src='placeholder.png' height= 25% width= 25%>"
   ]
  },
  {
   "cell_type": "markdown",
   "metadata": {},
   "source": [
    "                      2.5%\t      97.5%\t       OR\n",
    "       gre\t        1.000074\t1.004372\t1.002221\n",
    "       gpa\t        1.136120\t4.183113\t2.180027\n",
    "    prestige_2.0\t0.272168\t0.942767\t0.506548\n",
    "    prestige_3.0\t0.133377\t0.515419\t0.262192\n",
    "    prestige_4.0\t0.093329\t0.479411\t0.211525\n",
    "    intercept\t    0.002207\t0.194440\t0.020716"
   ]
  },
  {
   "cell_type": "markdown",
   "metadata": {},
   "source": [
    "### Discussion: Write up your discussion and future steps"
   ]
  },
  {
   "cell_type": "markdown",
   "metadata": {},
   "source": [
    "Answer: The study indicates that GPA is the most important factor in determining admission, but prestige of alma mater still has an impact. Next steps might be looking at edge cases, looking at GRE or GPA as categorical variables and seeing whether there are levels of GRE or GPA where the importance of prestige increases."
   ]
  },
  {
   "cell_type": "code",
   "execution_count": null,
   "metadata": {
    "collapsed": true
   },
   "outputs": [],
   "source": []
  }
 ],
 "metadata": {
  "kernelspec": {
   "display_name": "Python 2",
   "language": "python",
   "name": "python2"
  },
  "language_info": {
   "codemirror_mode": {
    "name": "ipython",
    "version": 2
   },
   "file_extension": ".py",
   "mimetype": "text/x-python",
   "name": "python",
   "nbconvert_exporter": "python",
   "pygments_lexer": "ipython2",
   "version": "2.7.13"
  }
 },
 "nbformat": 4,
 "nbformat_minor": 1
}
